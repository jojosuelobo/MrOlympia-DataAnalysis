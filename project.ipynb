{
 "cells": [
  {
   "cell_type": "markdown",
   "metadata": {},
   "source": [
    "### Load libs"
   ]
  },
  {
   "cell_type": "code",
   "execution_count": 72,
   "metadata": {},
   "outputs": [],
   "source": [
    "import requests \n",
    "from bs4 import BeautifulSoup as bs"
   ]
  },
  {
   "cell_type": "markdown",
   "metadata": {},
   "source": [
    "### Store Columns and Rows"
   ]
  },
  {
   "cell_type": "code",
   "execution_count": 73,
   "metadata": {},
   "outputs": [],
   "source": [
    "r = requests.get(\"https://en.wikipedia.org/wiki/Mr._Olympia\")\n",
    "soup = bs(r.content) # I change de 'webpage' to 'soup' as a convention\n",
    "table  = soup.find_all(\"table\", {\"class\": \"wikitable\"})[0]   "
   ]
  },
  {
   "cell_type": "code",
   "execution_count": 74,
   "metadata": {},
   "outputs": [
    {
     "data": {
      "text/plain": [
       "['#', 'Year', 'Winner(s)[a]', 'Award', 'Venue']"
      ]
     },
     "execution_count": 74,
     "metadata": {},
     "output_type": "execute_result"
    }
   ],
   "source": [
    "columns_name = table.find_all('th')\n",
    "columns_name = [th.text.strip() for th in columns_name]\n",
    "\n",
    "columns_name"
   ]
  },
  {
   "cell_type": "code",
   "execution_count": 75,
   "metadata": {
    "scrolled": true
   },
   "outputs": [
    {
     "name": "stdout",
     "output_type": "stream",
     "text": [
      "['1', '1965', 'Larry Scott[31]', '$1,000', 'New York, United States']\n",
      "['2', '1966']\n",
      "['3', '1967', 'Sergio Oliva[32]']\n",
      "['4', '1968']\n",
      "['5', '1969']\n",
      "['6', '1970', 'Arnold Schwarzenegger[32]']\n",
      "['7', '1971', 'Paris, France']\n",
      "['8', '1972', 'Essen, West Germany']\n",
      "['9', '1973', 'New York, United States']\n",
      "['10', '1974', 'Arnold Schwarzenegger[32](Heavyweight & overall)', 'Franco Columbu(Lightweight)']\n",
      "['11', '1975', '$2,500', 'Pretoria, South Africa']\n",
      "['12', '1976', 'Franco Columbu[32](Lightweight & overall)', 'Ken Waller(Heavyweight)', '$5,000', 'Columbus, United States']\n",
      "['13', '1977', 'Frank Zane[32](Lightweight & overall)', 'Robby Robinson(Heavyweight)']\n",
      "['14', '1978', '$15,000']\n",
      "['15', '1979', 'Mike Mentzer(Heavyweight)', '$25,000']\n",
      "['16', '1980', 'Arnold Schwarzenegger[32]', 'Sydney, Australia']\n",
      "['17', '1981', 'Franco Columbu[32]', 'Columbus, United States']\n",
      "['18', '1982', 'Chris Dickerson[32]', 'London, United Kingdom']\n",
      "['19', '1983', 'Samir Bannout[32]', 'Munich, West Germany']\n",
      "['20', '1984', 'Lee Haney[32]', '$50,000', 'New York, United States']\n",
      "['21', '1985', 'Brussels, Belgium']\n",
      "['22', '1986', '$55,000', 'Columbus, United States']\n",
      "['23', '1987', 'Gothenburg, Sweden']\n",
      "['24', '1988', 'Unknown', 'Los Angeles, United States']\n",
      "['25', '1989', 'Rimini, Italy']\n",
      "['26', '1990', '$100,000', 'Chicago, United States']\n",
      "['27', '1991', 'Orlando, United States']\n",
      "['28', '1992', 'Dorian Yates[32]', 'Helsinki, Finland']\n",
      "['29', '1993', 'Atlanta, United States']\n",
      "['30', '1994']\n",
      "['31', '1995', '$110,000']\n",
      "['32', '1996', 'Chicago, United States']\n",
      "['33', '1997', 'Los Angeles, United States']\n",
      "['34', '1998', 'Ronnie Coleman[32]', 'New York, United States']\n",
      "['35', '1999', 'Las Vegas, United States']\n",
      "['36', '2000']\n",
      "['37', '2001']\n",
      "['38', '2002']\n",
      "['39', '2003']\n",
      "['40', '2004', '$120,000']\n",
      "['41', '2005', '$150,000']\n",
      "['42', '2006', 'Jay Cutler[32]', '$155,000']\n",
      "['43', '2007']\n",
      "['44', '2008', 'Dexter Jackson[32]']\n",
      "['45', '2009', 'Jay Cutler[32]', '$200,000']\n",
      "['46', '2010']\n",
      "['47', '2011', 'Phil Heath[32]']\n",
      "['48', '2012', '$250,000']\n",
      "['49', '2013']\n",
      "['50', '2014', '$275,000']\n",
      "['51', '2015', '$400,000']\n",
      "['52', '2016']\n",
      "['53', '2017']\n",
      "['54', '2018', 'Shawn Rhoden[33]']\n",
      "['55', '2019', 'Brandon Curry[34]']\n",
      "['56', '2020', 'Mamdouh Elssbiay[35]', 'Orlando, United States']\n",
      "['57', '2021']\n",
      "['58', '2022', 'Hadi Choopan', 'Las Vegas, United States']\n",
      "['59', '2023', 'Derek Lunsford', 'Orlando, United States']\n"
     ]
    }
   ],
   "source": [
    "rows = table.tbody.find_all('tr')\n",
    "rows = rows[1:]\n",
    "\n",
    "l = []\n",
    "for tr in rows:\n",
    "    td = tr.find_all('td')\n",
    "    row = [str(tr.get_text()).strip() for tr in td]\n",
    "    l.append(row)\n",
    "    \n",
    "for row in l:\n",
    "    print(row)"
   ]
  },
  {
   "cell_type": "markdown",
   "metadata": {},
   "source": [
    "============= MY CODE ============"
   ]
  },
  {
   "cell_type": "markdown",
   "metadata": {},
   "source": [
    "### First i will get all the index on the table"
   ]
  },
  {
   "cell_type": "code",
   "execution_count": 76,
   "metadata": {
    "scrolled": true
   },
   "outputs": [
    {
     "data": {
      "text/plain": [
       "['1',\n",
       " '2',\n",
       " '3',\n",
       " '4',\n",
       " '5',\n",
       " '6',\n",
       " '7',\n",
       " '8',\n",
       " '9',\n",
       " '10',\n",
       " '11',\n",
       " '12',\n",
       " '13',\n",
       " '14',\n",
       " '15',\n",
       " '16',\n",
       " '17',\n",
       " '18',\n",
       " '19',\n",
       " '20',\n",
       " '21',\n",
       " '22',\n",
       " '23',\n",
       " '24',\n",
       " '25',\n",
       " '26',\n",
       " '27',\n",
       " '28',\n",
       " '29',\n",
       " '30',\n",
       " '31',\n",
       " '32',\n",
       " '33',\n",
       " '34',\n",
       " '35',\n",
       " '36',\n",
       " '37',\n",
       " '38',\n",
       " '39',\n",
       " '40',\n",
       " '41',\n",
       " '42',\n",
       " '43',\n",
       " '44',\n",
       " '45',\n",
       " '46',\n",
       " '47',\n",
       " '48',\n",
       " '49',\n",
       " '50',\n",
       " '51',\n",
       " '52',\n",
       " '53',\n",
       " '54',\n",
       " '55',\n",
       " '56',\n",
       " '57',\n",
       " '58',\n",
       " '59']"
      ]
     },
     "execution_count": 76,
     "metadata": {},
     "output_type": "execute_result"
    }
   ],
   "source": [
    "index_row = [row[0] for row in l]\n",
    "index_row"
   ]
  },
  {
   "cell_type": "markdown",
   "metadata": {},
   "source": [
    "### Get all the 'Year' on the table"
   ]
  },
  {
   "cell_type": "code",
   "execution_count": 77,
   "metadata": {
    "scrolled": true
   },
   "outputs": [
    {
     "data": {
      "text/plain": [
       "['1965',\n",
       " '1966',\n",
       " '1967',\n",
       " '1968',\n",
       " '1969',\n",
       " '1970',\n",
       " '1971',\n",
       " '1972',\n",
       " '1973',\n",
       " '1974',\n",
       " '1975',\n",
       " '1976',\n",
       " '1977',\n",
       " '1978',\n",
       " '1979',\n",
       " '1980',\n",
       " '1981',\n",
       " '1982',\n",
       " '1983',\n",
       " '1984',\n",
       " '1985',\n",
       " '1986',\n",
       " '1987',\n",
       " '1988',\n",
       " '1989',\n",
       " '1990',\n",
       " '1991',\n",
       " '1992',\n",
       " '1993',\n",
       " '1994',\n",
       " '1995',\n",
       " '1996',\n",
       " '1997',\n",
       " '1998',\n",
       " '1999',\n",
       " '2000',\n",
       " '2001',\n",
       " '2002',\n",
       " '2003',\n",
       " '2004',\n",
       " '2005',\n",
       " '2006',\n",
       " '2007',\n",
       " '2008',\n",
       " '2009',\n",
       " '2010',\n",
       " '2011',\n",
       " '2012',\n",
       " '2013',\n",
       " '2014',\n",
       " '2015',\n",
       " '2016',\n",
       " '2017',\n",
       " '2018',\n",
       " '2019',\n",
       " '2020',\n",
       " '2021',\n",
       " '2022',\n",
       " '2023']"
      ]
     },
     "execution_count": 77,
     "metadata": {},
     "output_type": "execute_result"
    }
   ],
   "source": [
    "year_row =  [row[1] for row in l]\n",
    "year_row"
   ]
  },
  {
   "cell_type": "markdown",
   "metadata": {},
   "source": [
    "### Get all the 'Winner(s)' on the table"
   ]
  },
  {
   "cell_type": "code",
   "execution_count": 78,
   "metadata": {
    "scrolled": true
   },
   "outputs": [
    {
     "data": {
      "text/plain": [
       "['Larry Scott[31]',\n",
       " 'n/a',\n",
       " 'Sergio Oliva[32]',\n",
       " 'n/a',\n",
       " 'n/a',\n",
       " 'Arnold Schwarzenegger[32]',\n",
       " 'Paris, France',\n",
       " 'Essen, West Germany',\n",
       " 'New York, United States',\n",
       " 'Arnold Schwarzenegger[32](Heavyweight & overall)',\n",
       " 'n/a',\n",
       " 'Franco Columbu[32](Lightweight & overall)',\n",
       " 'Frank Zane[32](Lightweight & overall)',\n",
       " 'n/a',\n",
       " 'Mike Mentzer(Heavyweight)',\n",
       " 'Arnold Schwarzenegger[32]',\n",
       " 'Franco Columbu[32]',\n",
       " 'Chris Dickerson[32]',\n",
       " 'Samir Bannout[32]',\n",
       " 'Lee Haney[32]',\n",
       " 'Brussels, Belgium',\n",
       " 'n/a',\n",
       " 'Gothenburg, Sweden',\n",
       " 'Unknown',\n",
       " 'Rimini, Italy',\n",
       " 'n/a',\n",
       " 'Orlando, United States',\n",
       " 'Dorian Yates[32]',\n",
       " 'Atlanta, United States',\n",
       " 'n/a',\n",
       " 'n/a',\n",
       " 'Chicago, United States',\n",
       " 'Los Angeles, United States',\n",
       " 'Ronnie Coleman[32]',\n",
       " 'Las Vegas, United States',\n",
       " 'n/a',\n",
       " 'n/a',\n",
       " 'n/a',\n",
       " 'n/a',\n",
       " 'n/a',\n",
       " 'n/a',\n",
       " 'Jay Cutler[32]',\n",
       " 'n/a',\n",
       " 'Dexter Jackson[32]',\n",
       " 'Jay Cutler[32]',\n",
       " 'n/a',\n",
       " 'Phil Heath[32]',\n",
       " 'n/a',\n",
       " 'n/a',\n",
       " 'n/a',\n",
       " 'n/a',\n",
       " 'n/a',\n",
       " 'n/a',\n",
       " 'Shawn Rhoden[33]',\n",
       " 'Brandon Curry[34]',\n",
       " 'Mamdouh Elssbiay[35]',\n",
       " 'n/a',\n",
       " 'Hadi Choopan',\n",
       " 'Derek Lunsford']"
      ]
     },
     "execution_count": 78,
     "metadata": {},
     "output_type": "execute_result"
    }
   ],
   "source": [
    "winner_row = []\n",
    "for row in l:\n",
    "    if len(row) >= 3:\n",
    "        winner_row.append('n/a' if '$' in row[2] else row[2])\n",
    "    else:\n",
    "        winner_row.append('n/a')\n",
    "\n",
    "winner_row\n",
    "\n",
    "#I see some outputs with countries on their names, we need to fix that!"
   ]
  },
  {
   "cell_type": "code",
   "execution_count": 79,
   "metadata": {},
   "outputs": [],
   "source": [
    "# List of known countries\n",
    "known_countries = [\n",
    "    'Afghanistan', 'Albania', 'Algeria', 'Andorra', 'Angola', 'Antigua and Barbuda', 'Argentina', 'Armenia', 'Australia', 'Austria',\n",
    "    'Azerbaijan', 'Bahamas', 'Bahrain', 'Bangladesh', 'Barbados', 'Belarus', 'Belgium', 'Belize', 'Benin', 'Bhutan', 'Bolivia',\n",
    "    'Bosnia and Herzegovina', 'Botswana', 'Brazil', 'Brunei', 'Bulgaria', 'Burkina Faso', 'Burundi', 'Côte d\\'Ivoire', 'Cabo Verde',\n",
    "    'Cambodia', 'Cameroon', 'Canada', 'Central African Republic', 'Chad', 'Chile', 'China', 'Colombia', 'Comoros', 'Congo (Congo-Brazzaville)',\n",
    "    'Costa Rica', 'Croatia', 'Cuba', 'Cyprus', 'Czechia (Czech Republic)', 'Democratic Republic of the Congo', 'Denmark', 'Djibouti',\n",
    "    'Dominica', 'Dominican Republic', 'Ecuador', 'Egypt', 'El Salvador', 'Equatorial Guinea', 'Eritrea', 'Estonia', 'Eswatini (fmr. \"Swaziland\")',\n",
    "    'Ethiopia', 'Fiji', 'Finland', 'France', 'Gabon', 'Gambia', 'Georgia', 'Germany', 'Ghana', 'Greece', 'Grenada', 'Guatemala', 'Guinea',\n",
    "    'Guinea-Bissau', 'Guyana', 'Haiti', 'Holy See', 'Honduras', 'Hungary', 'Iceland', 'India', 'Indonesia', 'Iran', 'Iraq', 'Ireland',\n",
    "    'Israel', 'Italy', 'Jamaica', 'Japan', 'Jordan', 'Kazakhstan', 'Kenya', 'Kiribati', 'Kuwait', 'Kyrgyzstan', 'Laos', 'Latvia', 'Lebanon',\n",
    "    'Lesotho', 'Liberia', 'Libya', 'Liechtenstein', 'Lithuania', 'Luxembourg', 'Madagascar', 'Malawi', 'Malaysia', 'Maldives', 'Mali', 'Malta',\n",
    "    'Marshall Islands', 'Mauritania', 'Mauritius', 'Mexico', 'Micronesia', 'Moldova', 'Monaco', 'Mongolia', 'Montenegro', 'Morocco', 'Mozambique',\n",
    "    'Myanmar (formerly Burma)', 'Namibia', 'Nauru', 'Nepal', 'Netherlands', 'New Zealand', 'Nicaragua', 'Niger', 'Nigeria', 'North Korea',\n",
    "    'North Macedonia (formerly Macedonia)', 'Norway', 'Oman', 'Pakistan', 'Palau', 'Palestine State', 'Panama', 'Papua New Guinea', 'Paraguay',\n",
    "    'Peru', 'Philippines', 'Poland', 'Portugal', 'Qatar', 'Romania', 'Russia', 'Rwanda', 'Saint Kitts and Nevis', 'Saint Lucia',\n",
    "    'Saint Vincent and the Grenadines', 'Samoa', 'San Marino', 'Sao Tome and Principe', 'Saudi Arabia', 'Senegal', 'Serbia', 'Seychelles',\n",
    "    'Sierra Leone', 'Singapore', 'Slovakia', 'Slovenia', 'Solomon Islands', 'Somalia', 'South Africa', 'South Korea', 'South Sudan', 'Spain',\n",
    "    'Sri Lanka', 'Sudan', 'Suriname', 'Sweden', 'Switzerland', 'Syria', 'Tajikistan', 'Tanzania', 'Thailand', 'Timor-Leste', 'Togo', 'Tonga',\n",
    "    'Trinidad and Tobago', 'Tunisia', 'Turkey', 'Turkmenistan', 'Tuvalu', 'Uganda', 'Ukraine', 'United Arab Emirates', 'United Kingdom',\n",
    "    'United States of America', 'United States', 'Unknown', 'Uruguay', 'Uzbekistan', 'Vanuatu', 'Venezuela', 'Vietnam', 'Yemen', 'Zambia', 'Zimbabwe'\n",
    "]"
   ]
  },
  {
   "cell_type": "code",
   "execution_count": 80,
   "metadata": {
    "scrolled": true
   },
   "outputs": [
    {
     "data": {
      "text/plain": [
       "['Larry Scott[31]',\n",
       " 'n/a',\n",
       " 'Sergio Oliva[32]',\n",
       " 'n/a',\n",
       " 'n/a',\n",
       " 'Arnold Schwarzenegger[32]',\n",
       " 'n/a',\n",
       " 'n/a',\n",
       " 'n/a',\n",
       " 'Arnold Schwarzenegger[32](Heavyweight & overall)',\n",
       " 'n/a',\n",
       " 'Franco Columbu[32](Lightweight & overall)',\n",
       " 'Frank Zane[32](Lightweight & overall)',\n",
       " 'n/a',\n",
       " 'Mike Mentzer(Heavyweight)',\n",
       " 'Arnold Schwarzenegger[32]',\n",
       " 'Franco Columbu[32]',\n",
       " 'Chris Dickerson[32]',\n",
       " 'Samir Bannout[32]',\n",
       " 'Lee Haney[32]',\n",
       " 'n/a',\n",
       " 'n/a',\n",
       " 'n/a',\n",
       " 'n/a',\n",
       " 'n/a',\n",
       " 'n/a',\n",
       " 'n/a',\n",
       " 'Dorian Yates[32]',\n",
       " 'n/a',\n",
       " 'n/a',\n",
       " 'n/a',\n",
       " 'n/a',\n",
       " 'n/a',\n",
       " 'Ronnie Coleman[32]',\n",
       " 'n/a',\n",
       " 'n/a',\n",
       " 'n/a',\n",
       " 'n/a',\n",
       " 'n/a',\n",
       " 'n/a',\n",
       " 'n/a',\n",
       " 'Jay Cutler[32]',\n",
       " 'n/a',\n",
       " 'Dexter Jackson[32]',\n",
       " 'Jay Cutler[32]',\n",
       " 'n/a',\n",
       " 'Phil Heath[32]',\n",
       " 'n/a',\n",
       " 'n/a',\n",
       " 'n/a',\n",
       " 'n/a',\n",
       " 'n/a',\n",
       " 'n/a',\n",
       " 'Shawn Rhoden[33]',\n",
       " 'Brandon Curry[34]',\n",
       " 'Mamdouh Elssbiay[35]',\n",
       " 'n/a',\n",
       " 'Hadi Choopan',\n",
       " 'Derek Lunsford']"
      ]
     },
     "execution_count": 80,
     "metadata": {},
     "output_type": "execute_result"
    }
   ],
   "source": [
    "for i, error_country in enumerate(winner_row):\n",
    "    for country in known_countries:\n",
    "        if country in error_country:\n",
    "            winner_row[i] = 'n/a'\n",
    "            break\n",
    "\n",
    "winner_row"
   ]
  },
  {
   "cell_type": "code",
   "execution_count": 81,
   "metadata": {},
   "outputs": [
    {
     "data": {
      "text/plain": [
       "59"
      ]
     },
     "execution_count": 81,
     "metadata": {},
     "output_type": "execute_result"
    }
   ],
   "source": [
    "len(winner_row) #Checking the number of winners"
   ]
  },
  {
   "cell_type": "markdown",
   "metadata": {},
   "source": [
    "#### Fixing the 'n/a' on the 'Winner(s)' table"
   ]
  },
  {
   "cell_type": "code",
   "execution_count": 82,
   "metadata": {
    "scrolled": true
   },
   "outputs": [
    {
     "data": {
      "text/plain": [
       "['1, Larry Scott[31]',\n",
       " '2, n/a',\n",
       " '3, Sergio Oliva[32]',\n",
       " '4, n/a',\n",
       " '5, n/a',\n",
       " '6, Arnold Schwarzenegger[32]',\n",
       " '7, n/a',\n",
       " '8, n/a',\n",
       " '9, n/a',\n",
       " '10, Arnold Schwarzenegger[32](Heavyweight & overall)',\n",
       " '11, n/a',\n",
       " '12, Franco Columbu[32](Lightweight & overall)',\n",
       " '13, Frank Zane[32](Lightweight & overall)',\n",
       " '14, n/a',\n",
       " '15, Mike Mentzer(Heavyweight)',\n",
       " '16, Arnold Schwarzenegger[32]',\n",
       " '17, Franco Columbu[32]',\n",
       " '18, Chris Dickerson[32]',\n",
       " '19, Samir Bannout[32]',\n",
       " '20, Lee Haney[32]',\n",
       " '21, n/a',\n",
       " '22, n/a',\n",
       " '23, n/a',\n",
       " '24, n/a',\n",
       " '25, n/a',\n",
       " '26, n/a',\n",
       " '27, n/a',\n",
       " '28, Dorian Yates[32]',\n",
       " '29, n/a',\n",
       " '30, n/a',\n",
       " '31, n/a',\n",
       " '32, n/a',\n",
       " '33, n/a',\n",
       " '34, Ronnie Coleman[32]',\n",
       " '35, n/a',\n",
       " '36, n/a',\n",
       " '37, n/a',\n",
       " '38, n/a',\n",
       " '39, n/a',\n",
       " '40, n/a',\n",
       " '41, n/a',\n",
       " '42, Jay Cutler[32]',\n",
       " '43, n/a',\n",
       " '44, Dexter Jackson[32]',\n",
       " '45, Jay Cutler[32]',\n",
       " '46, n/a',\n",
       " '47, Phil Heath[32]',\n",
       " '48, n/a',\n",
       " '49, n/a',\n",
       " '50, n/a',\n",
       " '51, n/a',\n",
       " '52, n/a',\n",
       " '53, n/a',\n",
       " '54, Shawn Rhoden[33]',\n",
       " '55, Brandon Curry[34]',\n",
       " '56, Mamdouh Elssbiay[35]',\n",
       " '57, n/a',\n",
       " '58, Hadi Choopan',\n",
       " '59, Derek Lunsford']"
      ]
     },
     "execution_count": 82,
     "metadata": {},
     "output_type": "execute_result"
    }
   ],
   "source": [
    "winner_row = [f\"{index}, {winner}\" for index, winner in enumerate(winner_row, start=1)]\n",
    "winner_row"
   ]
  },
  {
   "cell_type": "code",
   "execution_count": 83,
   "metadata": {},
   "outputs": [
    {
     "data": {
      "text/plain": [
       "59"
      ]
     },
     "execution_count": 83,
     "metadata": {},
     "output_type": "execute_result"
    }
   ],
   "source": [
    "previous_name = None\n",
    "winner_list = []\n",
    "\n",
    "for item in winner_row:\n",
    "    parts = item.split(', ')  \n",
    "    if len(parts) == 2:\n",
    "        index, name = parts\n",
    "        if name != 'n/a':\n",
    "            previous_name = name\n",
    "    if previous_name is not None:\n",
    "        winner_list.append(previous_name) \n",
    "\n",
    "len(result_list)"
   ]
  },
  {
   "cell_type": "code",
   "execution_count": 84,
   "metadata": {
    "scrolled": true
   },
   "outputs": [
    {
     "data": {
      "text/plain": [
       "['Larry Scott[31]',\n",
       " 'Larry Scott[31]',\n",
       " 'Sergio Oliva[32]',\n",
       " 'Sergio Oliva[32]',\n",
       " 'Sergio Oliva[32]',\n",
       " 'Arnold Schwarzenegger[32]',\n",
       " 'Arnold Schwarzenegger[32]',\n",
       " 'Arnold Schwarzenegger[32]',\n",
       " 'Arnold Schwarzenegger[32]',\n",
       " 'Arnold Schwarzenegger[32](Heavyweight & overall)',\n",
       " 'Arnold Schwarzenegger[32](Heavyweight & overall)',\n",
       " 'Franco Columbu[32](Lightweight & overall)',\n",
       " 'Frank Zane[32](Lightweight & overall)',\n",
       " 'Frank Zane[32](Lightweight & overall)',\n",
       " 'Mike Mentzer(Heavyweight)',\n",
       " 'Arnold Schwarzenegger[32]',\n",
       " 'Franco Columbu[32]',\n",
       " 'Chris Dickerson[32]',\n",
       " 'Samir Bannout[32]',\n",
       " 'Lee Haney[32]',\n",
       " 'Lee Haney[32]',\n",
       " 'Lee Haney[32]',\n",
       " 'Lee Haney[32]',\n",
       " 'Lee Haney[32]',\n",
       " 'Lee Haney[32]',\n",
       " 'Lee Haney[32]',\n",
       " 'Lee Haney[32]',\n",
       " 'Dorian Yates[32]',\n",
       " 'Dorian Yates[32]',\n",
       " 'Dorian Yates[32]',\n",
       " 'Dorian Yates[32]',\n",
       " 'Dorian Yates[32]',\n",
       " 'Dorian Yates[32]',\n",
       " 'Ronnie Coleman[32]',\n",
       " 'Ronnie Coleman[32]',\n",
       " 'Ronnie Coleman[32]',\n",
       " 'Ronnie Coleman[32]',\n",
       " 'Ronnie Coleman[32]',\n",
       " 'Ronnie Coleman[32]',\n",
       " 'Ronnie Coleman[32]',\n",
       " 'Ronnie Coleman[32]',\n",
       " 'Jay Cutler[32]',\n",
       " 'Jay Cutler[32]',\n",
       " 'Dexter Jackson[32]',\n",
       " 'Jay Cutler[32]',\n",
       " 'Jay Cutler[32]',\n",
       " 'Phil Heath[32]',\n",
       " 'Phil Heath[32]',\n",
       " 'Phil Heath[32]',\n",
       " 'Phil Heath[32]',\n",
       " 'Phil Heath[32]',\n",
       " 'Phil Heath[32]',\n",
       " 'Phil Heath[32]',\n",
       " 'Shawn Rhoden[33]',\n",
       " 'Brandon Curry[34]',\n",
       " 'Mamdouh Elssbiay[35]',\n",
       " 'Mamdouh Elssbiay[35]',\n",
       " 'Hadi Choopan',\n",
       " 'Derek Lunsford']"
      ]
     },
     "execution_count": 84,
     "metadata": {},
     "output_type": "execute_result"
    }
   ],
   "source": [
    "winner_list"
   ]
  },
  {
   "cell_type": "markdown",
   "metadata": {},
   "source": [
    "### Getting the 'Award'"
   ]
  },
  {
   "cell_type": "code",
   "execution_count": null,
   "metadata": {},
   "outputs": [],
   "source": [
    "for row in l:\n",
    "    for item in row:\n",
    "        if '$' in item:\n",
    "            number = ''\n",
    "            found_digit = False\n",
    "            for char in item:\n",
    "                if char.isdigit():\n",
    "                    number += char\n",
    "                    found_digit = True\n",
    "                elif char == ',' or char == '.':\n",
    "                    if found_digit:\n",
    "                        number += char\n",
    "                elif char == '$':\n",
    "                    number += char\n",
    "                    found_digit = False\n",
    "            l.append(number)\n",
    "\n",
    "print(l)\n"
   ]
  },
  {
   "cell_type": "code",
   "execution_count": null,
   "metadata": {},
   "outputs": [],
   "source": []
  },
  {
   "cell_type": "code",
   "execution_count": null,
   "metadata": {},
   "outputs": [],
   "source": []
  },
  {
   "cell_type": "code",
   "execution_count": null,
   "metadata": {},
   "outputs": [],
   "source": []
  }
 ],
 "metadata": {
  "kernelspec": {
   "display_name": "Python 3 (ipykernel)",
   "language": "python",
   "name": "python3"
  },
  "language_info": {
   "codemirror_mode": {
    "name": "ipython",
    "version": 3
   },
   "file_extension": ".py",
   "mimetype": "text/x-python",
   "name": "python",
   "nbconvert_exporter": "python",
   "pygments_lexer": "ipython3",
   "version": "3.9.12"
  }
 },
 "nbformat": 4,
 "nbformat_minor": 4
}
